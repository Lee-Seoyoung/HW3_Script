{
 "cells": [
  {
   "cell_type": "markdown",
   "metadata": {},
   "source": [
    "### Assignment 3\n",
    "[정보]\n",
    "1) Due Date: 2017년 10월 30일 (월), 23시 59분  \n",
    "2) 제출방법: jupyter notebook으로 작성된 내용을 github 또는 dropbox와 같은 클라우드에 올려 해당 URL을 다시 http://nbviewer.jupyter.org 에 넣어서 산출된 URL을 EL사이트에 제출함.  \n",
    "3) 내용: 반드시 python code와 수행 결과를 jupyter notebook 내에 작성하여 넣고 이에 대한 설명등을 해당 코드 아래에 markdown cell에 넣어 기입하시오.  \n",
    "4) 숙제이후 소감: 문제를 모두 푼 이후에 현재까지 강의를 들은 이후의 소감, 숙제를 한 이후의 소감, 또는 전하고자 하는 말 등을 짧막하게라도 좋으니 마지막에 함께 작성하여 제출하시오.\n",
    "5) 문제 (ACM-ICPC 1문제 포함하여 총 9개)  "
   ]
  },
  {
   "cell_type": "markdown",
   "metadata": {},
   "source": [
    "## 문제 1"
   ]
  },
  {
   "cell_type": "markdown",
   "metadata": {},
   "source": [
    "L=[1, 2, 3, 4, 5]일 때 다음 각 문장을 수행한 후의 결과를 보고 납득할 만한 이유를 설명하시오.  \n",
    "1)  L[1:3] = [100]\n",
    "print(L)  \n",
    "2)  L[1:3] = [(100)]\n",
    "print(L)  \n",
    "3)  L[1:3] = 100\n",
    "print(L)  \n",
    "4)  L[1:3] = (100)\n",
    "print(L)  \n",
    "5)  L[1:3] = (100, 101, 102)\n",
    "print(L)  \n",
    "6)  L[1:3] = [100, 101, 102]\n",
    "print(L)  \n",
    "7)  L[1:3] = [(100, 101, 102)]\n",
    "print(L)  \n",
    "8)  L[1:3] = [[100, 101, 102]]\n",
    "print(L)  "
   ]
  },
  {
   "cell_type": "code",
   "execution_count": 3,
   "metadata": {},
   "outputs": [
    {
     "name": "stdout",
     "output_type": "stream",
     "text": [
      "[1, 100, 4, 5]\n"
     ]
    }
   ],
   "source": [
    "#(1)번\n",
    "L=[1,2,3,4,5]\n",
    "L[1:3] = [100]\n",
    "print(L) "
   ]
  },
  {
   "cell_type": "markdown",
   "metadata": {},
   "source": [
    "(1)\n",
    "L[1:3]은 1번째 원소인 2를 포함하고 3번째원소인 4를 포함하지 않는 리스트이다.\n",
    "따라서 이를 100으로 대체하면\n",
    "2,3 대신 100이 들어간다.\n"
   ]
  },
  {
   "cell_type": "code",
   "execution_count": 5,
   "metadata": {},
   "outputs": [
    {
     "name": "stdout",
     "output_type": "stream",
     "text": [
      "[1, 100, 4, 5]\n"
     ]
    }
   ],
   "source": [
    "#(2)번\n",
    "L=[1, 2, 3, 4, 5]\n",
    "L[1:3] = [(100)]\n",
    "print(L)  "
   ]
  },
  {
   "cell_type": "markdown",
   "metadata": {},
   "source": [
    "(2)\n",
    "원소가 1개인 리스트는 그냥 실수형 자료형처럼 출력되므로\n",
    "1번 문제와 같은 결과값을 가져올 수 있다.\n"
   ]
  },
  {
   "cell_type": "code",
   "execution_count": 6,
   "metadata": {},
   "outputs": [
    {
     "ename": "TypeError",
     "evalue": "can only assign an iterable",
     "output_type": "error",
     "traceback": [
      "\u001b[1;31m---------------------------------------------------------------------------\u001b[0m",
      "\u001b[1;31mTypeError\u001b[0m                                 Traceback (most recent call last)",
      "\u001b[1;32m<ipython-input-6-f2abd5e3e563>\u001b[0m in \u001b[0;36m<module>\u001b[1;34m()\u001b[0m\n\u001b[0;32m      1\u001b[0m \u001b[1;31m#(3)번\u001b[0m\u001b[1;33m\u001b[0m\u001b[1;33m\u001b[0m\u001b[0m\n\u001b[0;32m      2\u001b[0m \u001b[0mL\u001b[0m \u001b[1;33m=\u001b[0m\u001b[1;33m[\u001b[0m\u001b[1;36m1\u001b[0m\u001b[1;33m,\u001b[0m\u001b[1;36m2\u001b[0m\u001b[1;33m,\u001b[0m\u001b[1;36m3\u001b[0m\u001b[1;33m,\u001b[0m\u001b[1;36m4\u001b[0m\u001b[1;33m,\u001b[0m\u001b[1;36m5\u001b[0m\u001b[1;33m]\u001b[0m\u001b[1;33m\u001b[0m\u001b[0m\n\u001b[1;32m----> 3\u001b[1;33m \u001b[0mL\u001b[0m\u001b[1;33m[\u001b[0m\u001b[1;36m1\u001b[0m\u001b[1;33m:\u001b[0m\u001b[1;36m3\u001b[0m\u001b[1;33m]\u001b[0m \u001b[1;33m=\u001b[0m \u001b[1;36m100\u001b[0m\u001b[1;33m\u001b[0m\u001b[0m\n\u001b[0m\u001b[0;32m      4\u001b[0m \u001b[0mprint\u001b[0m\u001b[1;33m(\u001b[0m\u001b[0mL\u001b[0m\u001b[1;33m)\u001b[0m\u001b[1;33m\u001b[0m\u001b[0m\n",
      "\u001b[1;31mTypeError\u001b[0m: can only assign an iterable"
     ]
    }
   ],
   "source": [
    "#(3)번\n",
    "L =[1,2,3,4,5]\n",
    "L[1:3] = 100\n",
    "print(L)  "
   ]
  },
  {
   "cell_type": "markdown",
   "metadata": {},
   "source": [
    "에러코드를 보면 TypeError: can only assign an iterable이라는 글귀를 볼 수 있다.\n",
    "즉 iterable한 객체인 리스트나 튜플 사전 집합 등의 객체만 올 수 있는데 그렇지 않은 자료형인 단순 정수자료형이 와서 오류가 생겼다."
   ]
  },
  {
   "cell_type": "code",
   "execution_count": 7,
   "metadata": {},
   "outputs": [
    {
     "ename": "TypeError",
     "evalue": "can only assign an iterable",
     "output_type": "error",
     "traceback": [
      "\u001b[1;31m---------------------------------------------------------------------------\u001b[0m",
      "\u001b[1;31mTypeError\u001b[0m                                 Traceback (most recent call last)",
      "\u001b[1;32m<ipython-input-7-7f94f2636812>\u001b[0m in \u001b[0;36m<module>\u001b[1;34m()\u001b[0m\n\u001b[0;32m      1\u001b[0m \u001b[0mL\u001b[0m\u001b[1;33m=\u001b[0m\u001b[1;33m[\u001b[0m\u001b[1;36m1\u001b[0m\u001b[1;33m,\u001b[0m\u001b[1;36m2\u001b[0m\u001b[1;33m,\u001b[0m\u001b[1;36m3\u001b[0m\u001b[1;33m,\u001b[0m\u001b[1;36m4\u001b[0m\u001b[1;33m,\u001b[0m\u001b[1;36m5\u001b[0m\u001b[1;33m]\u001b[0m\u001b[1;33m\u001b[0m\u001b[0m\n\u001b[1;32m----> 2\u001b[1;33m \u001b[0mL\u001b[0m\u001b[1;33m[\u001b[0m\u001b[1;36m1\u001b[0m\u001b[1;33m:\u001b[0m\u001b[1;36m3\u001b[0m\u001b[1;33m]\u001b[0m \u001b[1;33m=\u001b[0m \u001b[1;33m(\u001b[0m\u001b[1;36m100\u001b[0m\u001b[1;33m)\u001b[0m\u001b[1;33m\u001b[0m\u001b[0m\n\u001b[0m\u001b[0;32m      3\u001b[0m \u001b[0mprint\u001b[0m\u001b[1;33m(\u001b[0m\u001b[0mL\u001b[0m\u001b[1;33m)\u001b[0m\u001b[1;33m\u001b[0m\u001b[0m\n",
      "\u001b[1;31mTypeError\u001b[0m: can only assign an iterable"
     ]
    }
   ],
   "source": [
    "#4\n",
    "L=[1,2,3,4,5]\n",
    "L[1:3] = (100)\n",
    "print(L) "
   ]
  },
  {
   "cell_type": "markdown",
   "metadata": {},
   "source": [
    "역시 같은 형태의 오류가 뜬 것을 볼 수 있다.\n",
    "즉 iterable한 자료형이 아니기 때문에 에러가 떴다는 것이다. 이번에는 (100), 즉 튜플형태로 왔지만 원소가 한개인 경우 튜플은 정수자료형과 동일하게 취급하기 때문에 오류로 취급되었다."
   ]
  },
  {
   "cell_type": "code",
   "execution_count": 8,
   "metadata": {},
   "outputs": [
    {
     "name": "stdout",
     "output_type": "stream",
     "text": [
      "[1, 100, 101, 102, 4, 5]\n"
     ]
    }
   ],
   "source": [
    "#5\n",
    "L=[1,2,3,4,5]\n",
    "L[1:3] = (100, 101, 102)\n",
    "print(L)  "
   ]
  },
  {
   "cell_type": "markdown",
   "metadata": {},
   "source": [
    "이번에는 iterable한 객체인 튜플형태가 왔기에 typeError는 피할 수 있었다.\n",
    "L[1:3] 즉 첫번째 원소는 포함하고 세번째 원소는 포함하지 않도록 슬라이싱 하여서 그 부분을 (100,101,102)로 대체하는 것 이므로 \n",
    "[1,100,101,102,4,5] 가 된다. \n",
    "리스트형 자료형에 튜플을 대입한 것이지만 각 자료형 안에있는 원소가 대입되는 것으로 생각할 수 있다."
   ]
  },
  {
   "cell_type": "code",
   "execution_count": 9,
   "metadata": {},
   "outputs": [
    {
     "name": "stdout",
     "output_type": "stream",
     "text": [
      "[1, 100, 101, 102, 4, 5]\n"
     ]
    }
   ],
   "source": [
    "#6 \n",
    "L = [1,2,3,4,5]\n",
    "L[1:3] = [100, 101, 102]\n",
    "print(L) "
   ]
  },
  {
   "cell_type": "markdown",
   "metadata": {},
   "source": [
    "역시 문제 5번과 비슷한 맥락으로 iterable한 객체인 리스트 형태가 왔기에 에러없이 수행가능하고 첫번째 원소는 포함하고 세번째 원소는 포함하지 않도록 슬라이싱 하여서 그곳에 100, 101, 102를 집어넣은 것으로 생각할 수 있다.\n",
    "결과값은 5번 예제와 동일하다."
   ]
  },
  {
   "cell_type": "code",
   "execution_count": 10,
   "metadata": {},
   "outputs": [
    {
     "name": "stdout",
     "output_type": "stream",
     "text": [
      "[1, (100, 101, 102), 4, 5]\n"
     ]
    }
   ],
   "source": [
    "#7 \n",
    "L = [1,2,3,4,5]\n",
    "L[1:3] = [(100, 101, 102)]\n",
    "print(L)  "
   ]
  },
  {
   "cell_type": "markdown",
   "metadata": {},
   "source": [
    "슬라이싱한 곳에 원소가 튜플형태인 (100,101,102)가 왔으므로 1번 2번 원소 자리에 새로운 튜플원소가 들어간다."
   ]
  },
  {
   "cell_type": "code",
   "execution_count": 11,
   "metadata": {},
   "outputs": [
    {
     "name": "stdout",
     "output_type": "stream",
     "text": [
      "[1, [100, 101, 102], 4, 5]\n"
     ]
    }
   ],
   "source": [
    "#8\n",
    "L = [1,2,3,4,5]\n",
    "L[1:3] = [[100, 101, 102]]\n",
    "print(L) "
   ]
  },
  {
   "cell_type": "markdown",
   "metadata": {},
   "source": [
    "슬라이싱 한 곳에 원소가 리스트형태인 [100, 101, 102]가 왔으므로 1번 2번 원소자리에 새로운 리스트 원소가 들어간다."
   ]
  },
  {
   "cell_type": "markdown",
   "metadata": {},
   "source": [
    "## 문제 2\n",
    "\n",
    "문자열 S = 'Hello World and Python'에 대해 다음 요구사항에 대한 Python 코드를 제시하시오.  \n",
    "1) 단어의 순서가 역순으로 되어진 문자열 ('Python and World Hello')을 만들고  \n",
    "2) 1)의 결과 문자열에 대해 메소드 split과 join을 이용하여 공백을 모두 없엔 문자열 'PythonandWorldHello'을 만드시오."
   ]
  },
  {
   "cell_type": "code",
   "execution_count": 46,
   "metadata": {},
   "outputs": [
    {
     "name": "stdout",
     "output_type": "stream",
     "text": [
      "Python and World Hello\n",
      "['Python', 'and', 'World', 'Hello']\n",
      "PythonandWorldHello\n"
     ]
    }
   ],
   "source": [
    "S = 'Hello World and Python'\n",
    "S1 = S[16:22]+\" \"+S[12:15]+\" \"+S[6:11]+\" \"+S[0:5]\n",
    "print(S1)\n",
    "S2 =S1.split( )\n",
    "print(S2)\n",
    "S3 = ''.join(S2)\n",
    "print(S3)"
   ]
  },
  {
   "cell_type": "markdown",
   "metadata": {},
   "source": [
    "문자열 슬라이싱을 이용해서 단어가 역순으로 되어진 문자열을 만들고\n",
    "공백을 기준으로 문자열을 나누는 split함수를 사용했고\n",
    "split함수를 통해 만들어진 공백을 기준으로 나눠진 단어들을\n",
    "join함수를 이용해서 공백을 없앤 문자열을 만들었다."
   ]
  },
  {
   "cell_type": "markdown",
   "metadata": {},
   "source": [
    "## 문제 3번\n",
    "* 다음 코드를 보고 물음에 답하시오.\n",
    "\n",
    "a = [1, 2, 3]  \n",
    "b = a x 3  \n",
    "c = [a] x 3  \n",
    "print(b)  \n",
    "print(c)  \n",
    "1) 위 코드를 수행한 이후 다음 코드를 수행한 후 b와 c의 내용을 확인하시오.  \n",
    "a[0]=0  \n",
    "2) b와 c 객체의 차이는 무엇인가?  "
   ]
  },
  {
   "cell_type": "code",
   "execution_count": 47,
   "metadata": {},
   "outputs": [
    {
     "name": "stdout",
     "output_type": "stream",
     "text": [
      "[1, 2, 3, 1, 2, 3, 1, 2, 3]\n",
      "[[1, 2, 3], [1, 2, 3], [1, 2, 3]]\n"
     ]
    }
   ],
   "source": [
    "a = [1,2,3]\n",
    "b = a*3\n",
    "c = [a]*3\n",
    "print(b)\n",
    "print(c)\n"
   ]
  },
  {
   "cell_type": "code",
   "execution_count": 50,
   "metadata": {},
   "outputs": [
    {
     "name": "stdout",
     "output_type": "stream",
     "text": [
      "[1, 2, 3, 1, 2, 3, 1, 2, 3]\n",
      "[[1, 2, 3], [1, 2, 3], [1, 2, 3]]\n",
      "[0, 2, 3]\n",
      "[1, 2, 3, 1, 2, 3, 1, 2, 3]\n",
      "[[0, 2, 3], [0, 2, 3], [0, 2, 3]]\n"
     ]
    }
   ],
   "source": [
    "a = [1,2,3]\n",
    "b = a*3\n",
    "c = [a]*3\n",
    "print(b)\n",
    "print(c)\n",
    "a[0] = 0\n",
    "print(a)\n",
    "print(b)\n",
    "print(c)"
   ]
  },
  {
   "cell_type": "markdown",
   "metadata": {},
   "source": [
    "1) b객체는 a[0]을 한 이후에도 변화가 없었으나\n",
    "c객체에서는 a[1]에 해당하는 곳이 0으로 바뀌었다.\n",
    "\n",
    "2) b객체는 a객체의 원소를 3번 반복한 새로운 형태의 리스트를 만드는 것이고 c객체는 a객체 자체에 대괄호를 씌운 원소가 세번 반복된 형태이다.\n",
    "따라서 b객체는 a객체의 변화에도 영향을 받지 않고 c객체는 a객체의 변화에 영향을 받는다."
   ]
  },
  {
   "cell_type": "markdown",
   "metadata": {},
   "source": [
    "## 문제4\n",
    "* 다음 문자열을 ':'을 기준으로 분리하여 리스트로 만들고 각 문자열의 좌우 공백을 제거하시오 (즉, 문자열 S에서 l을 만들어라)\n",
    "\n",
    "* s = '  first star   :   second star   :    third star  '  \n",
    "  l = ['first star', 'second star', 'third star']  \n",
    "  \n",
    "    1) for ~ in 문을 이용한 코드를 작성하시오.  \n",
    "    2) 리스트 내포(list comprehension)를 이용한 코드를 작성하시오.  "
   ]
  },
  {
   "cell_type": "code",
   "execution_count": 79,
   "metadata": {},
   "outputs": [
    {
     "name": "stdout",
     "output_type": "stream",
     "text": [
      "['  first star   ', '   second star   ', '    third star  ']\n",
      "['first star', 'second star', 'third star']\n"
     ]
    }
   ],
   "source": [
    "s = '  first star   :   second star   :    third star  '\n",
    "l = ['first star', 'second star', 'third star']\n",
    "\n",
    "s1=s.split(':')\n",
    "\n",
    "print(s1)\n",
    "s3=s1[0].strip()\n",
    "s4=s1[1].strip()\n",
    "s5=s1[2].strip()\n",
    "\n",
    "\n",
    "L = []\n",
    "L.append(s3)\n",
    "L.append(s4)\n",
    "L.append(s5)\n",
    "print(L)"
   ]
  },
  {
   "cell_type": "markdown",
   "metadata": {},
   "source": [
    "먼저 문자열을 : 기준으로 분리하기 위해서 split함수를 이용해서 새로운 리스트를 만들었다.  \n",
    "그 후 각 리스트의 원소를 인덱싱한 후 strip 메소드를 이용해 좌우공백을 제거하였다.  \n",
    "리스트 내포를 이용하여 빈 리스트를 먼저 만들고, append함수를 이용해 3개 문자열을 리스트에 집어넣어 최종리스트인 L을 만든다.\n",
    "  "
   ]
  },
  {
   "cell_type": "markdown",
   "metadata": {},
   "source": [
    "## 문제 5\n",
    "* 다음과 같이 0보다 큰 정수 리스트 변수 list를 인자로 받는 함수 addall(list)와 addallodd(list)를 for ~ in 리터널과 리스트 내포 방식으로 각각 제시하시오. \n",
    "    * 1) addall(list) 함수 (리스트 내의 모든 정수를 더하는 함수로서 해답으로는 for ~ in 리터럴과 리스트 내포 방식으로 각각 제시하시오.) \n",
    "    >>> addall([1])  \n",
    "    1\n",
    "    * 2) addallodd(list) 함수 (리스트내의 모든 홀수를 더하는 함수로서 해답으로는 for ~ in 리터럴과 리스트 내포 방식으로 각각 제시하시오.)  \n",
    "    >>>addallodd([1])  \n",
    "    1\n",
    "    >>>addallodd([1, 2, 3, 4, 5, 6, 7, 8, 9])  \n",
    "    25\n",
    "    \n",
    "    [참고 1]: 리스트 내포 방식으로 addall() 및 addallodd()함수를 만들 때엔 리스트 내포에 의해 생성된 리스트 결과에 대해 내장 함수를 사용하는 방식을 고려해보시오 (주의: 리스트 내포 방식의 addall() 및 addallodd() 함수의 몸체는 단 1줄로 작성되어야 한다.)  \n",
    "    [참고 2]: sum() 등의 내장함수 사용 가능함\n",
    "    "
   ]
  },
  {
   "cell_type": "code",
   "execution_count": 89,
   "metadata": {},
   "outputs": [
    {
     "ename": "TypeError",
     "evalue": "'function' object is not subscriptable",
     "output_type": "error",
     "traceback": [
      "\u001b[1;31m---------------------------------------------------------------------------\u001b[0m",
      "\u001b[1;31mTypeError\u001b[0m                                 Traceback (most recent call last)",
      "\u001b[1;32m<ipython-input-89-bcaab0177521>\u001b[0m in \u001b[0;36m<module>\u001b[1;34m()\u001b[0m\n\u001b[0;32m      3\u001b[0m         \u001b[1;32mreturn\u001b[0m \u001b[0msum\u001b[0m\u001b[1;33m[\u001b[0m\u001b[0mlist\u001b[0m\u001b[1;33m]\u001b[0m\u001b[1;33m\u001b[0m\u001b[0m\n\u001b[0;32m      4\u001b[0m \u001b[1;33m\u001b[0m\u001b[0m\n\u001b[1;32m----> 5\u001b[1;33m \u001b[0mprint\u001b[0m\u001b[1;33m(\u001b[0m\u001b[0maddall\u001b[0m\u001b[1;33m[\u001b[0m\u001b[1;36m1\u001b[0m\u001b[1;33m]\u001b[0m\u001b[1;33m)\u001b[0m\u001b[1;33m\u001b[0m\u001b[0m\n\u001b[0m\u001b[0;32m      6\u001b[0m \u001b[1;33m\u001b[0m\u001b[0m\n\u001b[0;32m      7\u001b[0m \u001b[1;33m\u001b[0m\u001b[0m\n",
      "\u001b[1;31mTypeError\u001b[0m: 'function' object is not subscriptable"
     ]
    }
   ],
   "source": [
    "def addall():\n",
    "    for x in list:\n",
    "        return sum[list]\n",
    "    \n",
    "print(addall[1])\n",
    "        \n",
    "    "
   ]
  },
  {
   "cell_type": "markdown",
   "metadata": {},
   "source": [
    "## 문제 5\n",
    "* 다음 코드를 보고 물음에 답하시오.\n",
    "\n",
    "L1 = [1, 2, 3]  \n",
    "L2 = [4, 5, 6]  \n",
    "d = {'low':L1, 'high':L2}  \n",
    "e = d  \n",
    "f = d.copy()  \n",
    "print(d)  \n",
    "print(e)  \n",
    "print(f)  \n",
    "print()  \n",
    "d['low'] = [10, 20, 30]  \n",
    "d['high'][1] = 500  \n",
    "print(d)  \n",
    "print(e)  \n",
    "print(f)  \n",
    "1) 위 코드의 수행 결과 d와 e는 항상 같은 결과를 출력한다. 그 이유는 무엇인가?  \n",
    "2) 위 코드의 수행 결과 마지막 f의 내용은 다음과 같다. 이 때 'high' 키의 값 내용 중 500이 출력된 이유와 'low' 키의 값 내용 중 [1, 2, 3]이 출력된 이유를 설명하시오 ([hint]: shallow copy 관점에서 설명하시오.)  \n",
    "{'high': [4, 500, 6], 'low': [1, 2, 3]}  "
   ]
  },
  {
   "cell_type": "code",
   "execution_count": 90,
   "metadata": {},
   "outputs": [
    {
     "name": "stdout",
     "output_type": "stream",
     "text": [
      "{'low': [1, 2, 3], 'high': [4, 5, 6]}\n",
      "{'low': [1, 2, 3], 'high': [4, 5, 6]}\n",
      "{'low': [1, 2, 3], 'high': [4, 5, 6]}\n",
      "\n",
      "{'low': [10, 20, 30], 'high': [4, 500, 6]}\n",
      "{'low': [10, 20, 30], 'high': [4, 500, 6]}\n",
      "{'low': [1, 2, 3], 'high': [4, 500, 6]}\n"
     ]
    }
   ],
   "source": [
    "L1 = [1,2,3]\n",
    "L2 = [4,5,6]\n",
    "d = {'low':L1, 'high':L2}\n",
    "e = d\n",
    "f = d.copy()\n",
    "print(d)\n",
    "print(e)\n",
    "print(f)\n",
    "print()\n",
    "d['low'] = [10,20,30]\n",
    "d['high'][1] = 500\n",
    "print(d)\n",
    "print(e)\n",
    "print(f)"
   ]
  },
  {
   "cell_type": "markdown",
   "metadata": {},
   "source": [
    "1) d는 사전을 가리키고 d가 가리키는 사전의 주소를 e에 대입했기 때문에 e역시 d와 같은 사전을 가리키게 된다. 따라서 둘은 항상 같은 결과를 출력한다.\n",
    "2) "
   ]
  }
 ],
 "metadata": {
  "kernelspec": {
   "display_name": "Python 3",
   "language": "python",
   "name": "python3"
  },
  "language_info": {
   "codemirror_mode": {
    "name": "ipython",
    "version": 3
   },
   "file_extension": ".py",
   "mimetype": "text/x-python",
   "name": "python",
   "nbconvert_exporter": "python",
   "pygments_lexer": "ipython3",
   "version": "3.6.1"
  }
 },
 "nbformat": 4,
 "nbformat_minor": 2
}
